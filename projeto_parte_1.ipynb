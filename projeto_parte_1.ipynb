{
 "cells": [
  {
   "cell_type": "markdown",
   "metadata": {},
   "source": [
    "# Pós-graduação em Ciência da Computação - UFABC\n",
    "## Projeto de Mineração de Dados   Prof Thiago Covões\n",
    "### Alunos: Fernanda Borges e Thiago Rizuti"
   ]
  },
  {
   "cell_type": "markdown",
   "metadata": {},
   "source": [
    "# Introdução\n",
    "\n",
    "O projeto tem como objetivo interpretar automaticamente captchas de aúdio. O problema foi tratado como classificação multiclasse, na qual cada possível caracter do captcha representa uma classe. \n",
    "\n",
    "Foi utilizada a base disponibilizada pelo professor, contendo 200 observações para o conjunto de desenvolvimento e ? observações para o conjunto de validação. Cada captcha é formado por uma sequência de 4 caracteres, sendo eles: a, b, c, d, h, m, n, x, 6 ou 7."
   ]
  },
  {
   "cell_type": "markdown",
   "metadata": {},
   "source": [
    "Foram usadas as seguintes bibliotecas:"
   ]
  },
  {
   "cell_type": "code",
   "execution_count": 307,
   "metadata": {
    "collapsed": true
   },
   "outputs": [],
   "source": [
    "import librosa \n",
    "import librosa.display as display\n",
    "\n",
    "import pandas as pd \n",
    "import numpy as np \n",
    "import scipy as sp \n",
    "import matplotlib.pyplot as plt \n",
    "%matplotlib inline\n",
    "\n",
    "import os "
   ]
  },
  {
   "cell_type": "markdown",
   "metadata": {},
   "source": [
    "# Extração de Features"
   ]
  },
  {
   "cell_type": "code",
   "execution_count": 243,
   "metadata": {},
   "outputs": [],
   "source": [
    "def read_captchas(path):\n",
    "    wavs = [file for file in os.listdir(path) if os.path.isfile(os.path.join(path, file)) and file.endswith('.wav')]\n",
    "    captchas = []\n",
    "    for wav in wavs:\n",
    "        signal, sampling_rate = librosa.load(os.path.join(path,wav), None) \n",
    "        label = wav.split('.wav')[0]\n",
    "        captchas.append((signal,sampling_rate,label))\n",
    "    return captchas"
   ]
  },
  {
   "cell_type": "code",
   "execution_count": 274,
   "metadata": {
    "collapsed": true
   },
   "outputs": [],
   "source": [
    "def split_characters(captchas):\n",
    "    chars = [] \n",
    "    for captcha in  captchas:\n",
    "        signal = captcha[0]\n",
    "        sampling_rate=captcha[1]\n",
    "        label=captcha[2]\n",
    "        chars += [(signal[sampling_rate*2*i:sampling_rate*2*(i+1)],sampling_rate,label[i]) for i in range(4)]\n",
    "    return chars"
   ]
  },
  {
   "cell_type": "code",
   "execution_count": 305,
   "metadata": {
    "collapsed": true
   },
   "outputs": [],
   "source": [
    "def extract_features(chars):\n",
    "    data = pd.DataFrame()\n",
    "    for char in chars:\n",
    "        signal = char[0]\n",
    "        sampling_rate=char[1]\n",
    "        label=char[2]\n",
    "        row = pd.DataFrame()\n",
    "        row['label'] = [label]\n",
    "        mfcc = librosa.feature.mfcc(signal,sampling_rate)\n",
    "        for i,mfcc in enumerate(mfcc):\n",
    "            row['mfcc_'+str(i)+'_mode'] = [np.mean(sp.stats.mode(mfcc))]\n",
    "            row['mfcc_'+str(i)+'_min'] = [np.min(mfcc)]\n",
    "            row['mfcc_'+str(i)+'_max'] = [np.max(mfcc)]\n",
    "            row['mfcc_'+str(i)+'_mean'] = [np.mean(mfcc)]\n",
    "            row['mfcc_'+str(i)+'_std'] = [np.std(mfcc)]\n",
    "            row['mfcc_'+str(i)+'_median'] = [np.median(mfcc)]\n",
    "            row['mfcc_'+str(i)+'_iqr'] = [sp.stats.iqr(mfcc)]\n",
    "        data = data.append(row)\n",
    "    return data.reset_index(drop=True)\n",
    "   "
   ]
  },
  {
   "cell_type": "code",
   "execution_count": 266,
   "metadata": {},
   "outputs": [
    {
     "data": {
      "text/plain": [
       "200"
      ]
     },
     "execution_count": 266,
     "metadata": {},
     "output_type": "execute_result"
    }
   ],
   "source": [
    "train_captchas = read_captchas('base_treinamento_I')\n",
    "len(train_captchas)"
   ]
  },
  {
   "cell_type": "code",
   "execution_count": 275,
   "metadata": {},
   "outputs": [
    {
     "data": {
      "text/plain": [
       "800"
      ]
     },
     "execution_count": 275,
     "metadata": {},
     "output_type": "execute_result"
    }
   ],
   "source": [
    "train_chars = split_characters(train_captchas)\n",
    "len(train_chars)"
   ]
  },
  {
   "cell_type": "code",
   "execution_count": 306,
   "metadata": {},
   "outputs": [
    {
     "data": {
      "text/plain": [
       "(800, 141)"
      ]
     },
     "execution_count": 306,
     "metadata": {},
     "output_type": "execute_result"
    }
   ],
   "source": [
    "data = extract_features(train_chars)\n",
    "data.shape"
   ]
  },
  {
   "cell_type": "markdown",
   "metadata": {},
   "source": [
    "## exemplo"
   ]
  },
  {
   "cell_type": "code",
   "execution_count": 278,
   "metadata": {
    "collapsed": true
   },
   "outputs": [],
   "source": [
    "audio, sampling_rate = librosa.load('base_treinamento_I/6a67.wav', None) "
   ]
  },
  {
   "cell_type": "code",
   "execution_count": 279,
   "metadata": {},
   "outputs": [
    {
     "data": {
      "text/plain": [
       "[<matplotlib.lines.Line2D at 0x1340697b8>]"
      ]
     },
     "execution_count": 279,
     "metadata": {},
     "output_type": "execute_result"
    },
    {
     "data": {
      "image/png": "[encoded data removed]",
      "text/plain": [
       "<matplotlib.figure.Figure at 0x133f2a588>"
      ]
     },
     "metadata": {},
     "output_type": "display_data"
    }
   ],
   "source": [
    "plt.plot(audio)"
   ]
  },
  {
   "cell_type": "code",
   "execution_count": 280,
   "metadata": {},
   "outputs": [
    {
     "data": {
      "text/plain": [
       "[<matplotlib.lines.Line2D at 0x12a020f60>]"
      ]
     },
     "execution_count": 280,
     "metadata": {},
     "output_type": "execute_result"
    },
    {
     "data": {
      "image/png": "[encoded data removed]",
      "text/plain": [
       "<matplotlib.figure.Figure at 0x134069f28>"
      ]
     },
     "metadata": {},
     "output_type": "display_data"
    }
   ],
   "source": [
    "fig, ax = plt.subplots(2,2)\n",
    "\n",
    "ax[0][0].plot(chars[0])\n",
    "ax[0][1].plot(chars[1])\n",
    "ax[1][0].plot(chars[2])\n",
    "ax[1][1].plot(chars[3])"
   ]
  }
 ],
 "metadata": {
  "kernelspec": {
   "display_name": "Python 3",
   "language": "python",
   "name": "python3"
  },
  "language_info": {
   "codemirror_mode": {
    "name": "ipython",
    "version": 3
   },
   "file_extension": ".py",
   "mimetype": "text/x-python",
   "name": "python",
   "nbconvert_exporter": "python",
   "pygments_lexer": "ipython3",
   "version": "3.6.2"
  }
 },
 "nbformat": 4,
 "nbformat_minor": 2
}
