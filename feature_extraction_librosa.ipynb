{
 "cells": [
  {
   "cell_type": "code",
   "execution_count": 1,
   "metadata": {
    "collapsed": true
   },
   "outputs": [],
   "source": [
    "import librosa \n",
    "import librosa.display as display\n",
    "\n",
    "import pandas as pd \n",
    "import numpy as np \n",
    "import scipy as sp \n",
    "import matplotlib.pyplot as plt \n",
    "%matplotlib inline\n",
    "\n",
    "import os \n",
    "import time"
   ]
  },
  {
   "cell_type": "code",
   "execution_count": 2,
   "metadata": {
    "collapsed": true
   },
   "outputs": [],
   "source": [
    "def read_captchas(path):\n",
    "    wavs = [file for file in os.listdir(path) if os.path.isfile(os.path.join(path, file)) and file.endswith('.wav')]\n",
    "    captchas = []\n",
    "    for wav in wavs:\n",
    "        signal, sampling_rate = librosa.load(os.path.join(path,wav), None) \n",
    "        label = wav.split('.wav')[0]\n",
    "        captchas.append((signal,sampling_rate,label))\n",
    "    return captchas"
   ]
  },
  {
   "cell_type": "code",
   "execution_count": 3,
   "metadata": {
    "collapsed": true
   },
   "outputs": [],
   "source": [
    "def split_characters(captchas):\n",
    "    chars = [] \n",
    "    for captcha in  captchas:\n",
    "        signal = captcha[0]\n",
    "        sampling_rate=captcha[1]\n",
    "        label=captcha[2]\n",
    "        chars += [(signal[sampling_rate*2*i:sampling_rate*2*(i+1)],sampling_rate,label[i]) for i in range(4)]\n",
    "    return chars"
   ]
  },
  {
   "cell_type": "code",
   "execution_count": 4,
   "metadata": {
    "collapsed": true
   },
   "outputs": [],
   "source": [
    "def extract_features(chars):\n",
    "    data = pd.DataFrame()\n",
    "    for j, char in enumerate(chars):\n",
    "        signal = char[0]\n",
    "        sampling_rate=char[1]\n",
    "        label=char[2]\n",
    "        row = pd.DataFrame()\n",
    "        row['label'] = [label]\n",
    "#         row['signal_mode'] = [np.mean(sp.stats.mode(signal))]\n",
    "#         row['signal_min'] = [np.min(signal)]\n",
    "#         row['signal_max'] = [np.max(signal)]\n",
    "#         row['signal_mean'] = [np.mean(signal)]\n",
    "#         row['signal_std'] = [np.std(signal)]\n",
    "#         row['signal_median'] = [np.median(signal)]\n",
    "#         row['signal_iqr'] = [sp.stats.iqr(signal)]\n",
    "#         row['signal_kutosis'] = [sp.stats.kurtosis(signal)]\n",
    "#         row['signal_skewness'] = [sp.stats.skew(signal)]   \n",
    "        mfcc = librosa.feature.mfcc(signal,sampling_rate)\n",
    "        for i,mfcc in enumerate(mfcc):\n",
    "            row['mfcc_'+str(i)+'_mode'] = [np.mean(sp.stats.mode(mfcc))]\n",
    "            row['mfcc_'+str(i)+'_min'] = [np.min(mfcc)]\n",
    "            row['mfcc_'+str(i)+'_max'] = [np.max(mfcc)]\n",
    "            row['mfcc_'+str(i)+'_mean'] = [np.mean(mfcc)]\n",
    "            row['mfcc_'+str(i)+'_std'] = [np.std(mfcc)]\n",
    "            row['mfcc_'+str(i)+'_median'] = [np.median(mfcc)]\n",
    "            row['mfcc_'+str(i)+'_iqr'] = [sp.stats.iqr(mfcc)]\n",
    "            row['mfcc_'+str(i)+'_kutosis'] = [sp.stats.kurtosis(mfcc)]\n",
    "            row['mfcc_'+str(i)+'_skewness'] = [sp.stats.skew(mfcc)]\n",
    "        data = data.append(row)\n",
    "    return data.reset_index(drop=True)"
   ]
  },
  {
   "cell_type": "code",
   "execution_count": 5,
   "metadata": {},
   "outputs": [
    {
     "name": "stdout",
     "output_type": "stream",
     "text": [
      "read captchas:  200\n",
      "splited chars:  800\n",
      "1506508678.3855455\n",
      "final dataframe:  (800, 181)\n"
     ]
    }
   ],
   "source": [
    "start = time.time()\n",
    "train_captchas = read_captchas('base_treinamento_I')\n",
    "print('read captchas: ', len(train_captchas))\n",
    "train_chars = split_characters(train_captchas)\n",
    "print('splited chars: ', len(train_chars))\n",
    "train_data = extract_features(train_chars)\n",
    "end = time.time()\n",
    "print(end-start)\n",
    "\n",
    "print('final dataframe: ', train_data.shape)\n",
    "train_data.to_csv('train_data_librosa.csv',index=False)"
   ]
  },
  {
   "cell_type": "code",
   "execution_count": 7,
   "metadata": {},
   "outputs": [
    {
     "name": "stdout",
     "output_type": "stream",
     "text": [
      "read captchas:  147\n",
      "splited chars:  588\n",
      "80.27947902679443\n",
      "final dataframe:  (588, 181)\n"
     ]
    }
   ],
   "source": [
    "start = time.time()\n",
    "valid_captchas = read_captchas('base_validacao_I')\n",
    "print('read captchas: ', len(valid_captchas))\n",
    "valid_chars = split_characters(valid_captchas)\n",
    "print('splited chars: ', len(valid_chars))\n",
    "valid_data = extract_features(valid_chars)\n",
    "end = time.time()\n",
    "print(end-start)\n",
    "\n",
    "print('final dataframe: ', valid_data.shape)\n",
    "valid_data.to_csv('valid_data_librosa.csv',index=False)"
   ]
  }
 ],
 "metadata": {
  "kernelspec": {
   "display_name": "Python 3",
   "language": "python",
   "name": "python3"
  },
  "language_info": {
   "codemirror_mode": {
    "name": "ipython",
    "version": 3
   },
   "file_extension": ".py",
   "mimetype": "text/x-python",
   "name": "python",
   "nbconvert_exporter": "python",
   "pygments_lexer": "ipython3",
   "version": "3.6.2"
  }
 },
 "nbformat": 4,
 "nbformat_minor": 2
}
