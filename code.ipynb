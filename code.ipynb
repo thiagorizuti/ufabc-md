{
 "cells": [
  {
   "cell_type": "code",
   "execution_count": 1,
   "metadata": {},
   "outputs": [],
   "source": [
    "import librosa \n",
    "import librosa.display as display\n",
    "\n",
    "import pandas as pd \n",
    "import numpy as np \n",
    "import scipy as sp \n",
    "import matplotlib.pyplot as plt \n",
    "%matplotlib inline\n",
    "\n",
    "import os\n",
    "import time\n",
    "\n",
    "from sklearn.preprocessing import StandardScaler, RobustScaler\n",
    "from sklearn.feature_selection import VarianceThreshold, mutual_info_classif, chi2, SelectKBest, SelectPercentile\n",
    "from sklearn.model_selection import GridSearchCV, PredefinedSplit\n",
    "from sklearn.metrics import accuracy_score, f1_score, precision_score, recall_score\n",
    "from sklearn.naive_bayes import GaussianNB\n",
    "from sklearn.neighbors import KNeighborsClassifier\n",
    "from sklearn.linear_model import LogisticRegression\n",
    "from sklearn.tree import DecisionTreeClassifier\n",
    "from sklearn.ensemble import RandomForestClassifier, GradientBoostingClassifier"
   ]
  },
  {
   "cell_type": "code",
   "execution_count": 2,
   "metadata": {},
   "outputs": [],
   "source": [
    "def read_captchas(path):\n",
    "    wavs = [file for file in os.listdir(path) if os.path.isfile(os.path.join(path, file)) and file.endswith('.wav')]\n",
    "    captchas = []\n",
    "    for wav in wavs:\n",
    "        signal, sampling_rate = librosa.load(os.path.join(path,wav), None) \n",
    "        label = wav.split('.wav')[0]\n",
    "        captchas.append((signal,sampling_rate,label))\n",
    "    return captchas"
   ]
  },
  {
   "cell_type": "code",
   "execution_count": 3,
   "metadata": {},
   "outputs": [],
   "source": [
    "def split_characters(captcha):\n",
    "    chars = [] \n",
    "    signal = captcha[0]\n",
    "    sampling_rate=captcha[1]\n",
    "    label=captcha[2]\n",
    "    chars += [(signal[sampling_rate*2*i:sampling_rate*2*(i+1)],sampling_rate,label[i]) for i in range(4)]\n",
    "    return chars"
   ]
  },
  {
   "cell_type": "code",
   "execution_count": 4,
   "metadata": {},
   "outputs": [],
   "source": [
    "def extract_features(chars):\n",
    "    data = pd.DataFrame()\n",
    "    for j, char in enumerate(chars):\n",
    "        signal = char[0]\n",
    "        sampling_rate=char[1]\n",
    "        label=char[2]\n",
    "        row = pd.DataFrame()\n",
    "        row['label'] = [label]\n",
    "        mfcc = librosa.feature.mfcc(signal,sampling_rate)\n",
    "        for i,mfcc in enumerate(mfcc):\n",
    "            row['mfcc_'+str(i)+'_mode'] = [np.mean(sp.stats.mode(mfcc))]\n",
    "            row['mfcc_'+str(i)+'_min'] = [np.min(mfcc)]\n",
    "            row['mfcc_'+str(i)+'_max'] = [np.max(mfcc)]\n",
    "            row['mfcc_'+str(i)+'_mean'] = [np.mean(mfcc)]\n",
    "            row['mfcc_'+str(i)+'_std'] = [np.std(mfcc)]\n",
    "            row['mfcc_'+str(i)+'_median'] = [np.median(mfcc)]\n",
    "            row['mfcc_'+str(i)+'_iqr'] = [sp.stats.iqr(mfcc)]\n",
    "            row['mfcc_'+str(i)+'_kutosis'] = [sp.stats.kurtosis(mfcc)]\n",
    "            row['mfcc_'+str(i)+'_skewness'] = [sp.stats.skew(mfcc)]\n",
    "        data = data.append(row)\n",
    "    return data.reset_index(drop=True)"
   ]
  },
  {
   "cell_type": "code",
   "execution_count": null,
   "metadata": {},
   "outputs": [],
   "source": [
    "def train_model(train_path,valid_path):\n",
    "    train_captchas = read_captchas(train_path)\n",
    "    train_chars = []\n",
    "    for captcha in train_captchas:\n",
    "        train_chars += split_characters(captcha)\n",
    "    train_data = extract_features(train_chars)\n",
    "\n",
    "    valid_captchas = read_captchas(valid_path)\n",
    "    valid_chars =[]\n",
    "    for captcha in valid_captchas:\n",
    "        valid_chars += split_characters(captcha)\n",
    "    valid_data = extract_features(valid_chars)\n",
    "    \n",
    "    X_train = train_data.drop(['label'],axis=1)\n",
    "    y_train = train_data['label']\n",
    "    \n",
    "    X_valid = valid_data.drop(['label'],axis=1)\n",
    "    y_valid = valid_data['label']\n",
    "        \n",
    "    scaler = StandardScaler()\n",
    "    X_train = pd.DataFrame(scaler.fit_transform(X_train),columns=X_train.columns)\n",
    "    X_valid = pd.DataFrame(scaler.transform(X_valid),columns=X_valid.columns)\n",
    "    \n",
    "    estimators = [GaussianNB(),KNeighborsClassifier(),LogisticRegression(),\n",
    "              DecisionTreeClassifier(),RandomForestClassifier()]\n",
    "    \n",
    "    param_grids = [{},\n",
    "               {'n_neighbors':[2,5,7,10,12,15], 'weights':['uniform','distance'],'p':[1,2]},\n",
    "               {'C':np.logspace(-4,4,9),'penalty':['l1','l2'],'class_weight':[None,'balanced']},\n",
    "               {'max_depth':np.linspace(2,15,10),'class_weight':[None,'balanced']},\n",
    "               {'max_depth':np.linspace(2,15,10),'n_estimators':[50,100],'class_weight':[None,'balanced']},\n",
    "         ]\n",
    "\n",
    "    X = np.concatenate((X_train.values,X_valid.values),axis=0)\n",
    "    y = np.concatenate((y_train.values,y_valid.values),axis=0)\n",
    "    test_fold = []\n",
    "    for i in range(len(X_train)):\n",
    "        test_fold.append(-1)\n",
    "    for i in range(len(X_valid)):\n",
    "        test_fold.append(0)\n",
    "    cv = PredefinedSplit(test_fold=test_fold)\n",
    "    \n",
    "    results = {'estimator':[],'cv score':[]}\n",
    "    best_estimator = None\n",
    "    best_score = 0\n",
    "    for estimator,param_grid in zip(estimators,param_grids):\n",
    "        gridsearch = GridSearchCV(estimator,param_grid,scoring='accuracy',cv=cv)\n",
    "        gridsearch.fit(X,y)\n",
    "        results['estimator'].append(str(gridsearch.best_estimator_).split('(')[0])\n",
    "        results['cv score'].append(gridsearch.best_score_)\n",
    "        if gridsearch.best_score_ > best_score:\n",
    "            best_score = gridsearch.best_score_\n",
    "            best_estimator = gridsearch.best_estimator_\n",
    "    best_estimator.fit(X_train,y_train)\n",
    "    return scaler, best_estimator"
   ]
  },
  {
   "cell_type": "code",
   "execution_count": 10,
   "metadata": {},
   "outputs": [],
   "source": [
    "def evaluation_per_character(scaler,estimator,path):\n",
    "    captchas = read_captchas(path)\n",
    "    chars = []\n",
    "    for captcha in captchas:\n",
    "        chars += split_characters(captcha)\n",
    "    data = extract_features(chars)\n",
    "    X = data.drop(['label'],axis=1)\n",
    "    y = data['label']\n",
    "    X = pd.DataFrame(scaler.transform(X),columns=X.columns)\n",
    "    y_pred = best_estimator.predict(X)\n",
    "    return accuracy_score(y, y_pred), f1_score(y,y_pred,average='macro')"
   ]
  },
  {
   "cell_type": "code",
   "execution_count": 11,
   "metadata": {},
   "outputs": [],
   "source": [
    "def evaluation_per_captcha(scaler,estimator,path):\n",
    "    accuracy = 0\n",
    "    captchas = read_captchas(path)\n",
    "    for captcha in captchas:\n",
    "        chars = split_characters(captcha)\n",
    "        data = extract_features(chars)\n",
    "        X = data.drop(['label'],axis=1)\n",
    "        y = data['label']\n",
    "        X = pd.DataFrame(scaler.transform(X),columns=X.columns)\n",
    "        y_pred = best_estimator.predict(X)\n",
    "        if np.equal(y_pred,y).sum() == 4:\n",
    "            accuracy+=1\n",
    "    return accuracy/len(captchas)"
   ]
  },
  {
   "cell_type": "code",
   "execution_count": 12,
   "metadata": {},
   "outputs": [
    {
     "name": "stdout",
     "output_type": "stream",
     "text": [
      "(800, 180) (588, 180)\n"
     ]
    }
   ],
   "source": [
    "scaler, best_estimator = train_model('base_treinamento_I','base_validacao_I')"
   ]
  },
  {
   "cell_type": "code",
   "execution_count": 13,
   "metadata": {},
   "outputs": [
    {
     "data": {
      "text/plain": [
       "(0.95999999999999996, 0.95565157732719452)"
      ]
     },
     "execution_count": 13,
     "metadata": {},
     "output_type": "execute_result"
    }
   ],
   "source": [
    "evaluation_per_character(scaler,best_estimator,'base_treinamento_I')"
   ]
  },
  {
   "cell_type": "code",
   "execution_count": 14,
   "metadata": {},
   "outputs": [
    {
     "data": {
      "text/plain": [
       "(0.78911564625850339, 0.77946396989285083)"
      ]
     },
     "execution_count": 14,
     "metadata": {},
     "output_type": "execute_result"
    }
   ],
   "source": [
    "evaluation_per_character(scaler,best_estimator,'base_validacao_I')"
   ]
  },
  {
   "cell_type": "code",
   "execution_count": 15,
   "metadata": {},
   "outputs": [
    {
     "data": {
      "text/plain": [
       "0.855"
      ]
     },
     "execution_count": 15,
     "metadata": {},
     "output_type": "execute_result"
    }
   ],
   "source": [
    "evaluation_per_captcha(scaler,best_estimator,'base_treinamento_I')"
   ]
  },
  {
   "cell_type": "code",
   "execution_count": 18,
   "metadata": {},
   "outputs": [
    {
     "data": {
      "text/plain": [
       "0.40816326530612246"
      ]
     },
     "execution_count": 18,
     "metadata": {},
     "output_type": "execute_result"
    }
   ],
   "source": [
    "evaluation_per_captcha(scaler,best_estimator,'base_validacao_I')"
   ]
  }
 ],
 "metadata": {
  "kernelspec": {
   "display_name": "Python 3",
   "language": "python",
   "name": "python3"
  },
  "language_info": {
   "codemirror_mode": {
    "name": "ipython",
    "version": 3
   },
   "file_extension": ".py",
   "mimetype": "text/x-python",
   "name": "python",
   "nbconvert_exporter": "python",
   "pygments_lexer": "ipython3",
   "version": "3.6.2"
  }
 },
 "nbformat": 4,
 "nbformat_minor": 2
}
