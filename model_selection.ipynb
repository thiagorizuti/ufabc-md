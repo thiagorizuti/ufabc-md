{
 "cells": [
  {
   "cell_type": "code",
   "execution_count": 83,
   "metadata": {},
   "outputs": [],
   "source": [
    "import librosa \n",
    "import librosa.display as display\n",
    "\n",
    "import pandas as pd \n",
    "import numpy as np \n",
    "import scipy as sp \n",
    "import matplotlib.pyplot as plt \n",
    "%matplotlib inline\n",
    "\n",
    "import os\n",
    "import time\n",
    "\n",
    "from sklearn.preprocessing import StandardScaler\n",
    "from sklearn.feature_selection import VarianceThreshold, mutual_info_classif, chi2, SelectKBest, SelectPercentile\n",
    "from sklearn.model_selection import GridSearchCV, PredefinedSplit\n",
    "from sklearn.naive_bayes import GaussianNB\n",
    "from sklearn.neighbors import KNeighborsClassifier\n",
    "from sklearn.linear_model import LogisticRegression\n",
    "from sklearn.tree import DecisionTreeClassifier\n",
    "from sklearn.ensemble import RandomForestClassifier, GradientBoostingClassifier"
   ]
  },
  {
   "cell_type": "code",
   "execution_count": 132,
   "metadata": {},
   "outputs": [],
   "source": [
    "train_data = pd.read_csv('train_data_librosa.csv')\n",
    "valid_data = pd.read_csv('valid_data_librosa.csv')\n",
    "\n",
    "X_train = train_data.drop(['label'],axis=1)\n",
    "y_train = train_data['label']\n",
    "\n",
    "X_valid = valid_data.drop(['label'],axis=1)\n",
    "y_valid = valid_data['label']"
   ]
  },
  {
   "cell_type": "code",
   "execution_count": 133,
   "metadata": {},
   "outputs": [],
   "source": [
    "scaler = StandardScaler()\n",
    "X = pd.DataFrame(scaler.fit_transform(X_train),columns=X_train.columns)\n",
    "X_valid = pd.DataFrame(scaler.transform(X_valid),columns=X_valid.columns)"
   ]
  },
  {
   "cell_type": "code",
   "execution_count": 134,
   "metadata": {},
   "outputs": [],
   "source": [
    "estimators = [GaussianNB(),KNeighborsClassifier(),LogisticRegression(),\n",
    "              DecisionTreeClassifier(),RandomForestClassifier(),GradientBoostingClassifier()]"
   ]
  },
  {
   "cell_type": "code",
   "execution_count": 135,
   "metadata": {},
   "outputs": [],
   "source": [
    "param_grids = [{},\n",
    "               {'n_neighbors':[2,5,7,10,12,15], 'weights':['uniform','distance'],'p':[1,2]},\n",
    "               {'C':np.logspace(-4,4,9),'penalty':['l1','l2'],'class_weight':[None,'balanced']},\n",
    "               {'max_depth':np.linspace(2,10,9),'class_weight':[None,'balanced']},\n",
    "               {'max_depth':np.linspace(2,10,9),'n_estimators':[50,100],'class_weight':[None,'balanced']},\n",
    "               {'max_depth':np.linspace(2,10,9),'n_estimators':[50,100]}\n",
    "         ]"
   ]
  },
  {
   "cell_type": "code",
   "execution_count": 142,
   "metadata": {},
   "outputs": [],
   "source": [
    "X = np.concatenate((X_train,X_valid),axis=0)\n",
    "y = np.concatenate((y_train,y_valid),axis=0)\n",
    "test_fold = []\n",
    "for i in range(len(X_train)):\n",
    "    test_fold.append(-1)\n",
    "for i in range(len(X_valid)):\n",
    "    test_fold.append(0)\n",
    "\n",
    "cv = PredefinedSplit(test_fold=test_fold)\n"
   ]
  },
  {
   "cell_type": "code",
   "execution_count": 145,
   "metadata": {},
   "outputs": [
    {
     "name": "stdout",
     "output_type": "stream",
     "text": [
      "estimator score\n",
      "GaussianNB 0.200680272109\n",
      "KNeighborsClassifier 0.117346938776\n",
      "LogisticRegression 0.598639455782\n",
      "DecisionTreeClassifier 0.285714285714\n",
      "RandomForestClassifier 0.207482993197\n",
      "GradientBoostingClassifier 0.221088435374\n",
      "best:  LogisticRegression 0.598639455782\n",
      "minutes elapsed:  7.391902148723602\n"
     ]
    }
   ],
   "source": [
    "best_estimator = None\n",
    "best_score = 0\n",
    "start=time.time()\n",
    "print('estimator', 'score' )\n",
    "for estimator,param_grid in zip(estimators,param_grids):\n",
    "    gridsearch = GridSearchCV(estimator,param_grid,scoring='accuracy',cv=cv)\n",
    "    gridsearch.fit(X,y)\n",
    "    print(str(estimator).split('(')[0], gridsearch.best_score_)\n",
    "    if gridsearch.best_score_ > best_score:\n",
    "        best_score = gridsearch.best_score_\n",
    "        best_estimator = gridsearch.best_estimator_\n",
    "end=time.time()\n",
    "print('best: ', str(best_estimator).split('(')[0], best_score)\n",
    "print('minutes elapsed: ',(end-start)/60)"
   ]
  },
  {
   "cell_type": "code",
   "execution_count": null,
   "metadata": {},
   "outputs": [],
   "source": []
  }
 ],
 "metadata": {
  "kernelspec": {
   "display_name": "Python 3",
   "language": "python",
   "name": "python3"
  },
  "language_info": {
   "codemirror_mode": {
    "name": "ipython",
    "version": 3
   },
   "file_extension": ".py",
   "mimetype": "text/x-python",
   "name": "python",
   "nbconvert_exporter": "python",
   "pygments_lexer": "ipython3",
   "version": "3.6.2"
  }
 },
 "nbformat": 4,
 "nbformat_minor": 2
}
