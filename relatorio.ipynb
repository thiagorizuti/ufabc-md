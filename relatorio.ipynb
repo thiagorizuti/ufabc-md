{
 "cells": [
  {
   "cell_type": "markdown",
   "metadata": {},
   "source": [
    "# Pós-graduação em Ciência da Computação - UFABC\n",
    "## Projeto de Mineração de Dados   Prof Thiago Covões\n",
    "### Alunos: Fernanda Borges e Thiago Rizuti"
   ]
  },
  {
   "cell_type": "markdown",
   "metadata": {},
   "source": [
    "# Introdução\n",
    "\n",
    "O projeto tem como objetivo interpretar automaticamente captchas de aúdio. O problema foi tratado como classificação multiclasse, na qual cada possível caracter do captcha representa uma classe. \n",
    "\n",
    "Foi utilizada a base disponibilizada pelo professor, contendo 200 observações para o conjunto de desenvolvimento e ? observações para o conjunto de validação. Cada captcha é formado por uma sequência de 4 caracteres, sendo eles: a, b, c, d, h, m, n, x, 6 ou 7."
   ]
  },
  {
   "cell_type": "markdown",
   "metadata": {},
   "source": [
    "Foram usadas as seguintes bibliotecas:"
   ]
  },
  {
   "cell_type": "code",
   "execution_count": 308,
   "metadata": {
    "collapsed": true
   },
   "outputs": [],
   "source": [
    "import librosa \n",
    "import librosa.display as display\n",
    "\n",
    "import pandas as pd \n",
    "import numpy as np \n",
    "import scipy as sp \n",
    "import matplotlib.pyplot as plt \n",
    "%matplotlib inline\n",
    "\n",
    "import os "
   ]
  }
 ],
 "metadata": {
  "kernelspec": {
   "display_name": "Python 3",
   "language": "python",
   "name": "python3"
  },
  "language_info": {
   "codemirror_mode": {
    "name": "ipython",
    "version": 3
   },
   "file_extension": ".py",
   "mimetype": "text/x-python",
   "name": "python",
   "nbconvert_exporter": "python",
   "pygments_lexer": "ipython3",
   "version": "3.6.2"
  }
 },
 "nbformat": 4,
 "nbformat_minor": 2
}
