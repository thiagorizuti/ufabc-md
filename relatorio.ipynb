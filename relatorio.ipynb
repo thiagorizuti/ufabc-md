{
 "cells": [
  {
   "cell_type": "markdown",
   "metadata": {},
   "source": [
    "# Pós-graduação em Ciência da Computação - UFABC\n",
    "## Projeto de Mineração de Dados - Professor Thiago Covões\n",
    "### Alunos: Fernanda Borges e Thiago Rizuti"
   ]
  },
  {
   "cell_type": "markdown",
   "metadata": {},
   "source": [
    "# Introdução\n",
    "\n",
    "O objetivo do projeto é interpretar automaticamente captchas de áudio, que neste caso são áudios com quatro caracteres gravados pelos alunos separadamente e concatenados de forma aleatória em arquivos .wav.\n",
    "\n",
    "Esta base foi crida considerando-se os seguintes caracteres: a,b,c,d,h,m,n,x,6,7. Ela contém 200 observações para o conjunto de treinamento e 147 observações para o conjunto de validação.\n",
    "\n",
    "Primeiramente desenvolvemos classificadores capazes de distinguir cada caractere separadamente, sendo que cada caractere do captcha representa uma classe. Em seguida consideramos que para cada arquivo .wav recebido a predição é a combinação das predições individuais para cada caractere.\n",
    "\n",
    "Para realizar este projeto foram usadas as bibliotecas:\n",
    "- librosa, que é um pacote para análise de áudios e músicas; \n",
    "- pandas, que é uma ferramenta para estruturação e análise de dados;\n",
    "- numpy, que é muito utilizada para computações científicas;\n",
    "- matplotlib, que é utilizada principalmente para a plotagem de imagens em 2D;\n",
    "- sklearn, que possui ferramentas para mineração de dados;"
   ]
  },
  {
   "cell_type": "code",
   "execution_count": 1,
   "metadata": {
    "collapsed": true
   },
   "outputs": [],
   "source": [
    "import os\n",
    "import librosa \n",
    "import pandas as pd \n",
    "import numpy as np \n",
    "import scipy as sp \n",
    "import matplotlib.pyplot as plt \n",
    "%matplotlib inline"
   ]
  },
  {
   "cell_type": "markdown",
   "metadata": {},
   "source": [
    "Também implementamos as seguintes funções, que serão explicadas ao longo do relatório."
   ]
  },
  {
   "cell_type": "code",
   "execution_count": 2,
   "metadata": {
    "collapsed": true
   },
   "outputs": [],
   "source": [
    "%load_ext autoreload\n",
    "%autoreload 2\n",
    "%aimport codigo\n",
    "from codigo import read_audio, extract_features, select_model, train_model, evaluate_model "
   ]
  },
  {
   "cell_type": "markdown",
   "metadata": {},
   "source": [
    "# Análise Exploratória\n",
    "\n",
    "O primeiro desafio foi segmentar cada captcha separando o áudio referente a cada caractere. Para isso utilizamos a função load da biblioteca librosa que retorna a série temporal do áudio e a taxa de amostragem dela. Observamos as séries temporais de alguns captchas e identificamos que eles condiziam com o processo de gravação dos áudios, pois havia uma separação visual a cada dois segundos entre as oscilações mais representativas."
   ]
  },
  {
   "cell_type": "code",
   "execution_count": 3,
   "metadata": {
    "scrolled": false
   },
   "outputs": [
    {
     "data": {
      "text/plain": [
       "[<matplotlib.lines.Line2D at 0x1121b65c0>]"
      ]
     },
     "execution_count": 3,
     "metadata": {},
     "output_type": "execute_result"
    },
    {
     "data": {
      "image/png": "[encoded data removed]",
      "text/plain": [
       "<matplotlib.figure.Figure at 0x111e0ef60>"
      ]
     },
     "metadata": {},
     "output_type": "display_data"
    }
   ],
   "source": [
    "signal, sampling_rate = librosa.load('base_treinamento_I/bnma.wav', None)\n",
    "\n",
    "plt.figure(figsize=(9, 4))\n",
    "plt.title('captcha')\n",
    "plt.plot(signal)"
   ]
  },
  {
   "cell_type": "code",
   "execution_count": 4,
   "metadata": {},
   "outputs": [
    {
     "data": {
      "image/png": "[encoded data removed]",
      "text/plain": [
       "<matplotlib.figure.Figure at 0x115f527b8>"
      ]
     },
     "metadata": {},
     "output_type": "display_data"
    }
   ],
   "source": [
    "chars = [] \n",
    "chars += [signal[sampling_rate*2*i:sampling_rate*2*(i+1)] for i in range(4)]\n",
    "\n",
    "fig = plt.figure()\n",
    "\n",
    "plt.subplot(2, 2, 1)\n",
    "plt.title('caracter 1')\n",
    "plt.plot(chars[0])\n",
    "\n",
    "plt.subplot(2, 2, 2)\n",
    "plt.title('caracter 2')\n",
    "plt.plot(chars[1])\n",
    "\n",
    "plt.subplot(2, 2, 3)\n",
    "plt.title('caracter 3')\n",
    "plt.plot(chars[2])\n",
    "\n",
    "plt.subplot(2, 2, 4)\n",
    "plt.title('caracter 4')\n",
    "plt.plot(chars[3])\n",
    "plt.tight_layout()\n",
    "plt.show()"
   ]
  },
  {
   "cell_type": "markdown",
   "metadata": {},
   "source": [
    "Decidimos então quebrar a série temporal de cada captcha em 4 intervalo de 2 segundos.\n",
    "\n",
    "Usamos a função read_audio para ler e dividir em caracteres as bases de treinamento e validação. Definimos como base de treinamento a união das bases da primeira etapa com a base de treinamento da segunda etapa. Para validação, usamos a base de validação da segunda etapa."
   ]
  },
  {
   "cell_type": "code",
   "execution_count": 5,
   "metadata": {},
   "outputs": [
    {
     "name": "stdout",
     "output_type": "stream",
     "text": [
      "base de treinamento:  2020  caracteres\n",
      "base de validação:  596  caracteres\n"
     ]
    }
   ],
   "source": [
    "train_audios = read_audio('base_treinamento_I') + read_audio('base_treinamento_II') + read_audio('base_validacao_I')\n",
    "valid_audios = read_audio('base_validacao_II')\n",
    "print('base de treinamento: ', len(train_audios), ' caracteres')\n",
    "print('base de validação: ', len(valid_audios), ' caracteres')"
   ]
  },
  {
   "cell_type": "markdown",
   "metadata": {},
   "source": [
    "Para a extração das variáveis de cada caractere utilizamos o Mel Frequency Cepstral Coefficents (MFCCs) que é uma ferramenta amplamente utilizada para reconhecimento automático de fala.\n",
    "\n",
    "Os sons gerados por humanos são filtrados pelo formato do trato vocal, incluindo a língua, os dentes, etc. Este formato determina como o som é emitido. Considerando que seja possível determinar acuradamente este formato, podemos então assumir que temos uma representação acurada do fonema que está sendo reproduzido. \n",
    "\n",
    "O formato do trato vocal se manifesta em um envelope do espectro de força em um espaço curto de tempo, e o trabalho dos MFCCs é representar este envelope de maneira precisa.\n",
    "\n",
    "O processamento do Mel-Frequency Cepstral Coefficients realiza primeiramente o janelamento e aplica a Transformada Discreta de Fourier (DFT). A amplitude da Transformada de Fourier é filtrada por janelas triangulares na escala Mel e então aplica-se o logaritmo. A Transformada Discreta de Cosseno é aplicada e os Coeficientes Mel-Cepstrais são as amplitudes resultantes.\n",
    "\n",
    "Na função extract_features utilizamos biblioteca librosa para obter a sequência de MFCCs de cada caractere. Este processo retorna uma matriz com 40 linhas e 173 colunas por caractere. Calculamos então, a média da moda, o valor mínimo, o valor máximo, a média, o desvio padrão, a mediana, a amplitude interquartil, a curtose e a assimetria por linha."
   ]
  },
  {
   "cell_type": "code",
   "execution_count": 6,
   "metadata": {},
   "outputs": [
    {
     "name": "stdout",
     "output_type": "stream",
     "text": [
      "base de treinamento:  (2020, 362)\n",
      "base de validação:  (596, 362)\n",
      "CPU times: user 11min 5s, sys: 4.03 s, total: 11min 9s\n",
      "Wall time: 11min 7s\n"
     ]
    }
   ],
   "source": [
    "%%time\n",
    "train_data = extract_features(train_audios)\n",
    "valid_data = extract_features(valid_audios)\n",
    "\n",
    "print('base de treinamento: ', train_data.shape)\n",
    "print('base de validação: ', valid_data.shape)"
   ]
  },
  {
   "cell_type": "markdown",
   "metadata": {},
   "source": [
    "#  Metodologia\n",
    "\n",
    "Depois de extrair as variáveis adotamos a abordagem de um problema de classificação tradicional.\n",
    "\n",
    "Utilizamos o GridSearchCV do sklearn para comparar diferentes configurações de hiperparâmetros fazendo validação cruzada com 5 folds na base de treino. \n",
    "\n",
    "\n",
    "\n",
    "Os algoritmos candidatos foram: \n",
    "- K-nearest neighbors (hiperparâmetros: número de vizinhos, distâncias de manhattan e euclidiana)\n",
    "- Regressão Logística (hiperparâmetros: peso da regularização, regularizão l1 e l2)\n",
    "- Random Forest (hiperparâmetros: profundidade máxima).\n",
    "\n",
    "Os dados foram normalizados com o z-score para o k-nearest neighbors e para a regressão logística. \n",
    "Também foi utilizada uma seleção de features baseada em informação mútua antes do k-nearest neighbors, variando no gridsearch o número de features selecionadas.\n",
    "\n",
    "Executamos o grid search para cada um dos algoritmos candidatos. Por fim, combinamos cada algoritmo com hiperparâmetros otimizados em um ensemble de votação 'soft' (média dos scores)."
   ]
  },
  {
   "cell_type": "markdown",
   "metadata": {},
   "source": [
    "A metodologia descrita foi toda implementada na função select_model. \n",
    "A função train_model recebe o modelo final e o retreina no conjunto de treinamento."
   ]
  },
  {
   "cell_type": "code",
   "execution_count": 7,
   "metadata": {},
   "outputs": [
    {
     "name": "stdout",
     "output_type": "stream",
     "text": [
      "Fitting 5 folds for each of 18 candidates, totalling 90 fits\n"
     ]
    },
    {
     "name": "stderr",
     "output_type": "stream",
     "text": [
      "[Parallel(n_jobs=1)]: Done  90 out of  90 | elapsed: 10.2min finished\n"
     ]
    },
    {
     "name": "stdout",
     "output_type": "stream",
     "text": [
      "Fitting 5 folds for each of 18 candidates, totalling 90 fits\n"
     ]
    },
    {
     "name": "stderr",
     "output_type": "stream",
     "text": [
      "[Parallel(n_jobs=1)]: Done  90 out of  90 | elapsed: 12.5min finished\n"
     ]
    },
    {
     "name": "stdout",
     "output_type": "stream",
     "text": [
      "Fitting 5 folds for each of 18 candidates, totalling 90 fits\n"
     ]
    },
    {
     "name": "stderr",
     "output_type": "stream",
     "text": [
      "[Parallel(n_jobs=1)]: Done  90 out of  90 | elapsed: 12.7min finished\n"
     ]
    },
    {
     "name": "stdout",
     "output_type": "stream",
     "text": [
      "CPU times: user 35min 59s, sys: 5.13 s, total: 36min 4s\n",
      "Wall time: 36min 8s\n"
     ]
    }
   ],
   "source": [
    "%%time\n",
    "model = select_model(train_data)\n",
    "model = train_model(model,train_data)"
   ]
  },
  {
   "cell_type": "markdown",
   "metadata": {},
   "source": [
    "#  Resultados"
   ]
  },
  {
   "cell_type": "markdown",
   "metadata": {},
   "source": [
    "Implementamos a função evaluate_model para avaliar o nosso modelo.   \n",
    "A função calcula a matriz de confusão, acurácia, precision, recall e f1 para cada classe. Além disso, calcula também a taxa de acerto de captchas. Isto é, a porcentagem de vezes em que o modelo foi capaz de acertar os 4 caracteres dos captchas.   \n",
    "\n",
    "Analisando as métricas e a matriz de confusão, podemos observar que alguns caracteres são classificados com pouco erro, como 'a','x' e 'h'. Entretanto o modelo se confunde muito entre 'm' e 'n', e entre 'b' e 'd'.\n",
    "\n",
    "\n",
    "Nosso resultado final foi acertar aproximadamente 30% dos captchas de validação."
   ]
  },
  {
   "cell_type": "code",
   "execution_count": 8,
   "metadata": {},
   "outputs": [
    {
     "name": "stdout",
     "output_type": "stream",
     "text": [
      "confusion matrix\n",
      "\n",
      "    d   c   n   6   7   x   m   a   b   h\n",
      "d  23   0   8   3   0   0   2   0  19   0\n",
      "c   1  45   1   9   2   2   0   0   6   0\n",
      "n   0   0  26   0   0   0  18   0   1   0\n",
      "6   1   8   2  49   0   4   2   0   4   0\n",
      "7   0   3   0   3  55   0   1   0   0   1\n",
      "x   0   0   2   1   0  64   0   0   0   0\n",
      "m   2   1  20   0   0   0  29   0   5   0\n",
      "a   0   0   0   0   0   0   0  64   0   0\n",
      "b   9   1   5   0   1   1   1   0  35   0\n",
      "h   0   0   0   0   0   0   0   2   0  54\n",
      "\n",
      "\n",
      "             precision    recall  f1-score   support\n",
      "\n",
      "          6       0.75      0.70      0.73        70\n",
      "          7       0.95      0.87      0.91        63\n",
      "          a       0.97      1.00      0.98        64\n",
      "          b       0.50      0.66      0.57        53\n",
      "          c       0.78      0.68      0.73        66\n",
      "          d       0.64      0.42      0.51        55\n",
      "          h       0.98      0.96      0.97        56\n",
      "          m       0.55      0.51      0.53        57\n",
      "          n       0.41      0.58      0.48        45\n",
      "          x       0.90      0.96      0.93        67\n",
      "\n",
      "avg / total       0.76      0.74      0.75       596\n",
      "\n",
      "\n",
      "accuracy 0.74\n",
      "\n",
      "\n",
      "captchas hit rate 0.30\n"
     ]
    }
   ],
   "source": [
    "evaluate_model(model,valid_data)"
   ]
  },
  {
   "cell_type": "markdown",
   "metadata": {},
   "source": [
    "# Resultados no conjunto de testes\n",
    "Incluímos esta sessão para que o professor possa testar nossa solução em um novo conjunto de dados.\n",
    "\n",
    "Basta definir o caminho para o diretório contendo os aúdios e executar a célula."
   ]
  },
  {
   "cell_type": "code",
   "execution_count": null,
   "metadata": {
    "collapsed": true
   },
   "outputs": [],
   "source": [
    "path = ''\n",
    "\n",
    "model = train_model(model, pd.concat([train_data,valid_data],ignore_index=True))\n",
    "\n",
    "test_audios = read_audio(path)\n",
    "test_data = extract_features(test_audios)\n",
    "evaluate_model(model, test_data)"
   ]
  },
  {
   "cell_type": "markdown",
   "metadata": {},
   "source": [
    "# Referências\n",
    "\n",
    "http://www.practicalcryptography.com/miscellaneous/machine-learning/guide-mel-frequency-cepstral-coefficients-mfccs/\n",
    "\n",
    "http://abricom.org.br/wp-content/uploads/2016/03/bricsccicbic2013_submission_55.pdf\n",
    "\n",
    "https://librosa.github.io/librosa/index.html\n",
    "\n",
    "http://scikit-learn.org/stable/modules/classes.html\n"
   ]
  }
 ],
 "metadata": {
  "kernelspec": {
   "display_name": "Python 3",
   "language": "python",
   "name": "python3"
  },
  "language_info": {
   "codemirror_mode": {
    "name": "ipython",
    "version": 3
   },
   "file_extension": ".py",
   "mimetype": "text/x-python",
   "name": "python",
   "nbconvert_exporter": "python",
   "pygments_lexer": "ipython3",
   "version": "3.6.2"
  }
 },
 "nbformat": 4,
 "nbformat_minor": 2
}
